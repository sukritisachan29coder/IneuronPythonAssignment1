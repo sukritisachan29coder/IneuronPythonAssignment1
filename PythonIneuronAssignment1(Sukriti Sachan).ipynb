{
 "cells": [
  {
   "cell_type": "markdown",
   "id": "76a335cb",
   "metadata": {},
   "source": [
    "Q1-Why do we call Python as a general purpose and high-level programming language?\n",
    "\n",
    "Ans-: Python is called a general purpose and high level language as its is highly readable and is almost very close to english language, which means its syntax is quite easy to understand, we can do a bunch of tasks with writing minimal syntax as compared to languages like C++ or JAVA.\n",
    "For ex: If I have to print “Hello World!” in Python, I can simply write\n",
    "\n",
    "print(“Hello World!”)\n",
    "\n",
    "This is very easy to understand even for someone who is not from coding background and we had to write very minimal syntax as compared to above mentioned languages.\n"
   ]
  },
  {
   "attachments": {},
   "cell_type": "markdown",
   "id": "a2d24d7d",
   "metadata": {},
   "source": [
    "Q2:Why is Python called a dynamically typed language?\n",
    "\n",
    "Ans: Python is referred to as dynamically typed language as the compiler itself understands the datatype of a variable for ex: if we are writing a=5, the Python compiler is itself able to make it out that this is an integer type variable.\n",
    "Also we cannot do incompatible types operations in Python for ex: If we are doing \n",
    "print(“I have ”+3+”mangoes”)\n",
    "it will give me an error.\n",
    "\n",
    "It will give an error saying that these 2 data types are not compatible with each other,though we did not define the datatype, but Python compiler is intelligent enough to figure out the difference between the datatypes.\n"
   ]
  },
  {
   "cell_type": "markdown",
   "id": "507cba80",
   "metadata": {},
   "source": [
    "Q3: List some pros and cons of Python programming language?\n",
    "\n",
    "Ans: Pros:\n",
    "A: Python being a dynamically typed language is extremely easy to understand and we need to write minimal syntax for executing our code.\n",
    "\n",
    "B: In Python while declaring variables, we don’t need to give data type,Python is intelligent enough to understand as to what data type the user wants to give.\n",
    "\n",
    "C: Python has some great library support, which not all languages offer.Library is basically a code which is being written by someone else and we as Python users can just import the library into our program by a simple import statement which makes our work easy and smoother.Some examples of libraries are : Pandas,Numpy,TensorFlow\n",
    "\n",
    "D: Python is portable language, it follows WORA(Write Once run Anywhere).\n",
    "\n",
    "Cons:\n",
    "\n",
    "A: Python is a bit slow as compared to other languages such as JAVA, as the code in Python is being interpreted at runtime.\n",
    "\n",
    "B: Python’s memory consumption is quite high as compared to other programming languages.\n"
   ]
  },
  {
   "cell_type": "markdown",
   "id": "ddf50e07",
   "metadata": {},
   "source": [
    "Q4: In what all domains can we use Python?\n",
    "\n",
    "Ans: Python can be used in the following domains.\n",
    "\n",
    "Web Development\n",
    "Data Engineering\n",
    "Data Science\n",
    "AI and Machine Learning\n",
    "Android Development\n"
   ]
  },
  {
   "cell_type": "markdown",
   "id": "90313240",
   "metadata": {},
   "source": [
    "Q5. What are variable and how can we declare them?\n",
    "\n",
    "Variables in Python or any other language are basically containers in which we can assign some values of our choice. In Python we don’t need to pre define data type of a variable because it is dynamically typed.\n",
    "\n",
    "We can declare a variable in Python like:\n",
    "a=50 (This is an integer)\n",
    "str=”Hello” (This is a string)\n",
    "dec=6.78 (This is a float)\n",
    "fin=5 +6j (this is a complex number)\n"
   ]
  },
  {
   "cell_type": "markdown",
   "id": "e5702d11",
   "metadata": {},
   "source": [
    "Q6: How can we take user input in Python?\n",
    "\n",
    "User input in Python is taken via input() method.For ex:\n",
    "\n",
    " a=input(“Enter your name”)\n",
    " no= int(input(“Enter a no:”))\n"
   ]
  },
  {
   "cell_type": "markdown",
   "id": "fdadd079",
   "metadata": {},
   "source": [
    "Q7:What is the default datatype of the value that has been taken as an input using input() function?\n",
    "\n",
    "The default datatype taken as input is string in Python.\n"
   ]
  },
  {
   "cell_type": "code",
   "execution_count": 10,
   "id": "6defb1a8",
   "metadata": {},
   "outputs": [
    {
     "name": "stdout",
     "output_type": "stream",
     "text": [
      "7\n",
      "<class 'str'>\n"
     ]
    }
   ],
   "source": [
    "c=input()\n",
    "print(type(c))  #Part of answer 7"
   ]
  },
  {
   "cell_type": "markdown",
   "id": "11853f34",
   "metadata": {},
   "source": [
    "Q.8) What is type casting?\n",
    "\n",
    "Type casting in Python or any other language simply means casting or changing 1 data type to other.\n",
    "\n",
    "For ex: c=input()\n",
    "\t\tWe give input as 6, the default datatype is string, now if we do\n",
    "d=int(c), now d will be of integer data type\n"
   ]
  },
  {
   "cell_type": "code",
   "execution_count": 12,
   "id": "6e1b77a1",
   "metadata": {},
   "outputs": [
    {
     "name": "stdout",
     "output_type": "stream",
     "text": [
      "5\n",
      "<class 'int'>\n"
     ]
    }
   ],
   "source": [
    "c=input()\n",
    "d=int(c) \n",
    "print(type(d))   #Part of Answer 8"
   ]
  },
  {
   "cell_type": "markdown",
   "id": "a4a71373",
   "metadata": {},
   "source": [
    "\n",
    "Q 9) Can we take more than one input from the user using single input() function? If yes, how? If no, why?\n",
    "\n",
    "Yes, we can give input from one input() function in the following way.\n",
    "\n",
    "\n"
   ]
  },
  {
   "cell_type": "code",
   "execution_count": 14,
   "id": "100e07f9",
   "metadata": {},
   "outputs": [
    {
     "name": "stdout",
     "output_type": "stream",
     "text": [
      "4 5 6\n"
     ]
    }
   ],
   "source": [
    "i,j,k=input().split() #Part of Answer 9"
   ]
  },
  {
   "cell_type": "markdown",
   "id": "49f040dc",
   "metadata": {},
   "source": [
    "Q 10) What are keywords?\n",
    "\n",
    "Keywords are some reserved words in a language, which are used for certain functionalities, for example if we take simplest of all it would be print() keyword or input() keyword which is used for print desired text for user or take user input from user respectively.\n",
    "\n",
    "Some other keywords in Python are:\n",
    "\n",
    "For, while, split, in,finally,import, def, etc\n"
   ]
  },
  {
   "cell_type": "markdown",
   "id": "08095c49",
   "metadata": {},
   "source": [
    "Q 11) Can we use keywords as a variable? Support your answer with reason.\n",
    "\n",
    "No we cannot use keywords as a variable name as if we do that Python compiler gets confused, for ex in below image I try to assign 0 to a variable which I am trying to name for, but it throws me an error as it is thinking I am trying to initialize a loop.\n"
   ]
  },
  {
   "cell_type": "code",
   "execution_count": 15,
   "id": "a817525b",
   "metadata": {},
   "outputs": [
    {
     "ename": "SyntaxError",
     "evalue": "invalid syntax (707004483.py, line 1)",
     "output_type": "error",
     "traceback": [
      "\u001b[1;36m  File \u001b[1;32m\"C:\\Users\\sukri\\AppData\\Local\\Temp\\ipykernel_26996\\707004483.py\"\u001b[1;36m, line \u001b[1;32m1\u001b[0m\n\u001b[1;33m    for=0 #part of answer 11, will throw an error\u001b[0m\n\u001b[1;37m       ^\u001b[0m\n\u001b[1;31mSyntaxError\u001b[0m\u001b[1;31m:\u001b[0m invalid syntax\n"
     ]
    }
   ],
   "source": [
    "for=0 #part of answer 11, will throw an error"
   ]
  },
  {
   "cell_type": "markdown",
   "id": "8f261d84",
   "metadata": {},
   "source": [
    "Q 12) What is indentation? What's the use of indentaion in Python?\n",
    "\n",
    "Indentation in Python basically means that giving spaces after writing loop statements for ex:\n",
    " \n",
    "\n"
   ]
  },
  {
   "cell_type": "code",
   "execution_count": 4,
   "id": "66793b8c",
   "metadata": {},
   "outputs": [
    {
     "name": "stdout",
     "output_type": "stream",
     "text": [
      "15\n",
      "You can vote after  3  years.\n"
     ]
    }
   ],
   "source": [
    "age=int(input())\n",
    "if(age>=18):\n",
    "    print(\"You can vote\")\n",
    "else:\n",
    "    print(\"You can vote after \",18-age,\" years.\")\n"
   ]
  },
  {
   "cell_type": "markdown",
   "id": "2d9b71bc",
   "metadata": {},
   "source": [
    "Q 13) How can we throw some output in Python?\n",
    "\n",
    "We can throw some output in python using print() statement.For ex:\n"
   ]
  },
  {
   "cell_type": "code",
   "execution_count": 16,
   "id": "707c36fb",
   "metadata": {},
   "outputs": [
    {
     "name": "stdout",
     "output_type": "stream",
     "text": [
      "Hi! Let’s start learning data Engineering\n"
     ]
    }
   ],
   "source": [
    "print(\"Hi! Let’s start learning data Engineering\")  #Part of answer 13"
   ]
  },
  {
   "cell_type": "markdown",
   "id": "de716a47",
   "metadata": {},
   "source": [
    "Q 14) What are operators in Python?\n",
    "\n",
    "Operators are used to do calculations or assignment or logical comparison between two or more variables. They are of following types:\n",
    "Arithmetic operator, Logical operator, Bitwise operator, Assignment Operator.\n"
   ]
  },
  {
   "cell_type": "markdown",
   "id": "396dc01e",
   "metadata": {},
   "source": [
    "Q 15) What is difference between / and // operators?\n",
    "\n",
    "Difference between / and // operator:\n",
    "\n",
    "/ gives the output with decimal and // gives only the quotient.\n"
   ]
  },
  {
   "cell_type": "code",
   "execution_count": 5,
   "id": "03cbfca2",
   "metadata": {},
   "outputs": [
    {
     "name": "stdout",
     "output_type": "stream",
     "text": [
      "1.8\n",
      "1\n"
     ]
    }
   ],
   "source": [
    "a=9\n",
    "b=5\n",
    "c=a/b\n",
    "d=a//b\n",
    "print(c)\n",
    "print(d)   #part of answer 15"
   ]
  },
  {
   "cell_type": "markdown",
   "id": "5f4c732e",
   "metadata": {},
   "source": [
    "Q 16) Write a code that gives following as an output.\n",
    "\n",
    "\n"
   ]
  },
  {
   "cell_type": "code",
   "execution_count": 6,
   "id": "26f59b78",
   "metadata": {},
   "outputs": [
    {
     "name": "stdout",
     "output_type": "stream",
     "text": [
      "iNeuroniNeuroniNeuron\n"
     ]
    }
   ],
   "source": [
    "print(\"iNeuroniNeuroniNeuron\")    #Part of answer 16"
   ]
  },
  {
   "cell_type": "code",
   "execution_count": 7,
   "id": "49cb799c",
   "metadata": {},
   "outputs": [
    {
     "name": "stdout",
     "output_type": "stream",
     "text": [
      "Enter a number 6\n",
      "Even\n"
     ]
    }
   ],
   "source": [
    "#Q 17) Write a code to take a number as an input from the user and check if the number is odd or even.\n",
    "\n",
    "number=int(input(\"Enter a number \"))\n",
    "if(number%2==0):\n",
    "    print(\"Even\")\n",
    "else:\n",
    "    print(\"odd\")\n"
   ]
  },
  {
   "cell_type": "markdown",
   "id": "25b5519f",
   "metadata": {},
   "source": [
    "Q 18) What are boolean operators?\n",
    "\n",
    "Boolean operators gives result in true and false for, this is used when we want to know if an expression written is correct or not.\n",
    "For ex: \n",
    "\n",
    "If we use bool operator everything would result in true else than 0, for ex:\n"
   ]
  },
  {
   "cell_type": "code",
   "execution_count": 8,
   "id": "df243aa9",
   "metadata": {},
   "outputs": [
    {
     "name": "stdout",
     "output_type": "stream",
     "text": [
      "True\n",
      "False\n",
      "True\n",
      "True\n",
      "False\n"
     ]
    }
   ],
   "source": [
    "print(bool(1))\n",
    "print(bool(0))\n",
    "print(bool(-1))\n",
    "print(bool(\"Sukriti\"))\n",
    "print(bool(False))   #Part of Answer 18"
   ]
  },
  {
   "cell_type": "markdown",
   "id": "40316360",
   "metadata": {},
   "source": [
    "Q 19) \n",
    "\n",
    "What will the output of the following?\n",
    "```\n",
    "1 or 0\n",
    "\n",
    "\n",
    "0 and 0\n",
    "\n",
    "\n",
    "True and False and True\n",
    "\n",
    "\n",
    "1 or 0 or 0\n",
    "\n",
    "1 or 0: 1\n",
    "\n",
    "0 and 0: 0\n",
    "\n",
    "True and False and True: False\n",
    "\n",
    "1 or 0 or 0:1\n"
   ]
  },
  {
   "cell_type": "markdown",
   "id": "51bc6d9a",
   "metadata": {},
   "source": [
    "Q 20) What are conditional statements in Python?\n",
    "\n",
    "Conditional operators are basically if and else operators which are used when we want output based on certain conditions. For ex: Lets say 60% is passing percentage in any entrance exam, so we can evaluate it by following\n",
    "\n"
   ]
  },
  {
   "cell_type": "code",
   "execution_count": 9,
   "id": "36454104",
   "metadata": {},
   "outputs": [
    {
     "name": "stdout",
     "output_type": "stream",
     "text": [
      "Enter a score: 78\n",
      "Pass\n"
     ]
    }
   ],
   "source": [
    "score=int(input(\"Enter a score: \"))\n",
    "if(score>=60):\n",
    "\tprint(\"Pass\")\n",
    "else:\n",
    "\tprint(\"fail\")\n"
   ]
  },
  {
   "cell_type": "markdown",
   "id": "ab614efd",
   "metadata": {},
   "source": [
    "Q 21) What is use of 'if', 'elif' and 'else' keywords?\n",
    "These are used when we need to check more than two conditions in our program. For ex:\n"
   ]
  },
  {
   "cell_type": "code",
   "execution_count": 17,
   "id": "edeb741c",
   "metadata": {},
   "outputs": [
    {
     "name": "stdout",
     "output_type": "stream",
     "text": [
      "Enter your salary 700000\n",
      "Tax=  70000.0\n"
     ]
    }
   ],
   "source": [
    "salary=int(input(\"Enter your salary \"))\n",
    "if(salary<=500000):\n",
    "    print(\"No tax\")\n",
    "elif(salary>=500001 and salary<=800000):\n",
    "    print(\"Tax= \",0.1*salary)\n",
    "elif(salary>=800001 and salary<=1200000):\n",
    "    print(\"Tax= \",0.15*salary)\n",
    "else:\n",
    "    print(\"Tax= \",0.18*salary)  #Part of answer 21"
   ]
  },
  {
   "cell_type": "markdown",
   "id": "12aafcdc",
   "metadata": {},
   "source": [
    "Q 22) Write a code to take the age of person as an input and if age >= 18 display \"I can vote\". If age is < 18 display \"I can't vote\"."
   ]
  },
  {
   "cell_type": "code",
   "execution_count": 18,
   "id": "fa3eff30",
   "metadata": {},
   "outputs": [
    {
     "name": "stdout",
     "output_type": "stream",
     "text": [
      "19\n",
      "I can vote\n"
     ]
    }
   ],
   "source": [
    "age=int(input())\n",
    "if(age>=18):\n",
    "    print(\"I can vote\")\n",
    "else:\n",
    "    print(\"I can't vote.\")"
   ]
  },
  {
   "cell_type": "markdown",
   "id": "48b568f4",
   "metadata": {},
   "source": [
    "Q 23) Write a code that displays the sum of all the even numbers from the given list.\n",
    "numbers = [12, 75, 150, 180, 145, 525, 50]"
   ]
  },
  {
   "cell_type": "code",
   "execution_count": 19,
   "id": "82dd6406",
   "metadata": {},
   "outputs": [
    {
     "name": "stdout",
     "output_type": "stream",
     "text": [
      "392\n"
     ]
    }
   ],
   "source": [
    "numbers = [12, 75, 150, 180, 145, 525, 50]\n",
    "sum=0\n",
    "for i in numbers:\n",
    "    if(i%2==0):\n",
    "        sum=sum+i\n",
    "print(sum)"
   ]
  },
  {
   "cell_type": "markdown",
   "id": "ae9770e6",
   "metadata": {},
   "source": [
    "Q 24) Write a code to take 3 numbers as an input from the user and display the greatest no as output.\n"
   ]
  },
  {
   "cell_type": "code",
   "execution_count": 20,
   "id": "9108e977",
   "metadata": {},
   "outputs": [
    {
     "name": "stdout",
     "output_type": "stream",
     "text": [
      "67\n",
      "98\n",
      "23\n",
      "98  is greatest.\n"
     ]
    }
   ],
   "source": [
    "f=int(input())\n",
    "s=int(input())\n",
    "t=int(input())\n",
    "if(f>s and f>t):\n",
    "    print(f,\" is greatest.\")\n",
    "elif(s>t):\n",
    "    print(s,\" is greatest.\")\n",
    "else:\n",
    "    print(t,\" is greatest.\")"
   ]
  },
  {
   "cell_type": "markdown",
   "id": "82b3c4de",
   "metadata": {},
   "source": [
    "Q25. Write a program to display only those numbers from a list that satisfy the following conditions\n",
    "\n",
    "- The number must be divisible by five\n",
    "\n",
    "- If the number is greater than 150, then skip it and move to the next number\n",
    "\n",
    "- If the number is greater than 500, then stop the loop\n",
    "```\n",
    "numbers = [12, 75, 150, 180, 145, 525, 50]"
   ]
  },
  {
   "cell_type": "code",
   "execution_count": 21,
   "id": "72629a3f",
   "metadata": {},
   "outputs": [
    {
     "name": "stdout",
     "output_type": "stream",
     "text": [
      "[75, 150, 145, 50]\n"
     ]
    }
   ],
   "source": [
    "numbers = [12, 75, 150, 180, 145, 525, 50]\n",
    "list1=[]\n",
    "for i in numbers:\n",
    "    if(i%5==0):\n",
    "        if(i>150):\n",
    "            continue\n",
    "        if(i>500):\n",
    "            break\n",
    "        else:\n",
    "            list1.append(i)\n",
    "    else:\n",
    "        continue\n",
    "        \n",
    "print(list1)"
   ]
  }
 ],
 "metadata": {
  "kernelspec": {
   "display_name": "Python 3 (ipykernel)",
   "language": "python",
   "name": "python3"
  },
  "language_info": {
   "codemirror_mode": {
    "name": "ipython",
    "version": 3
   },
   "file_extension": ".py",
   "mimetype": "text/x-python",
   "name": "python",
   "nbconvert_exporter": "python",
   "pygments_lexer": "ipython3",
   "version": "3.9.13"
  }
 },
 "nbformat": 4,
 "nbformat_minor": 5
}
